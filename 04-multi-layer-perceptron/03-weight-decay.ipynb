{
 "cells": [
  {
   "cell_type": "markdown",
   "metadata": {},
   "source": [
    "# 权重衰退\n",
    "有时候我们想要限制模型的复杂度，否则可能会出现过拟合\n",
    "一般，我们的做法是\n",
    "- 限制维度，比如说原本是一个三次函数来做拟合，我们可以尝试用二次\n",
    "- 现在我们需要去引入一个新的更细的粒度，就是控制权重的大小\n",
    "\n",
    "这一点，比较直观的理解就是 如果weight = 0 这个函数是最简单的"
   ]
  },
  {
   "cell_type": "code",
   "execution_count": null,
   "metadata": {},
   "outputs": [],
   "source": []
  }
 ],
 "metadata": {
  "language_info": {
   "name": "python"
  }
 },
 "nbformat": 4,
 "nbformat_minor": 2
}
